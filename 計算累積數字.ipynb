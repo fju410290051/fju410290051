{
  "nbformat": 4,
  "nbformat_minor": 0,
  "metadata": {
    "colab": {
      "provenance": [],
      "authorship_tag": "ABX9TyNP9+qwejHbcv/B7u7AENAz",
      "include_colab_link": true
    },
    "kernelspec": {
      "name": "python3",
      "display_name": "Python 3"
    },
    "language_info": {
      "name": "python"
    }
  },
  "cells": [
    {
      "cell_type": "markdown",
      "metadata": {
        "id": "view-in-github",
        "colab_type": "text"
      },
      "source": [
        "<a href=\"https://colab.research.google.com/github/fju410290051/fju410290051/blob/main/%E8%A8%88%E7%AE%97%E7%B4%AF%E7%A9%8D%E6%95%B8%E5%AD%97.ipynb\" target=\"_parent\"><img src=\"https://colab.research.google.com/assets/colab-badge.svg\" alt=\"Open In Colab\"/></a>"
      ]
    },
    {
      "cell_type": "code",
      "execution_count": 2,
      "metadata": {
        "colab": {
          "base_uri": "https://localhost:8080/"
        },
        "id": "Qd5dOV7yljMG",
        "outputId": "68fa13a9-67cd-43af-af96-8643d88c65c4"
      },
      "outputs": [
        {
          "output_type": "stream",
          "name": "stdout",
          "text": [
            "26295929\n",
            "53964171\n",
            "80966464\n",
            "109314335\n"
          ]
        }
      ],
      "source": [
        "Q1 = 26295929\n",
        "\n",
        "Q2 = 27668242\n",
        "\n",
        "Q3 = 27002293\n",
        "\n",
        "Q4 = 28347871\n",
        "\n",
        "acc_Q1 = Q1\n",
        "print(acc_Q1)\n",
        "\n",
        "acc_Q2 = Q1 + Q2\n",
        "print(acc_Q2)\n",
        "\n",
        "acc_Q3 = Q1 + Q2 + Q3\n",
        "print(acc_Q3)\n",
        "\n",
        "acc_Q4 = Q1 + Q2 + Q3 + Q4\n",
        "print(acc_Q4)"
      ]
    }
  ]
}